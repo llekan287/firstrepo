{
  "metadata": {
    "kernelspec": {
      "name": "python",
      "display_name": "Python (Pyodide)",
      "language": "python"
    },
    "language_info": {
      "codemirror_mode": {
        "name": "python",
        "version": 3
      },
      "file_extension": ".py",
      "mimetype": "text/x-python",
      "name": "python",
      "nbconvert_exporter": "python",
      "pygments_lexer": "ipython3",
      "version": "3.8"
    }
  },
  "nbformat_minor": 4,
  "nbformat": 4,
  "cells": [
    {
      "cell_type": "code",
      "source": "# investigate missing values\nmissing_data= df.isnull()\nfor column in missing_data.columns.values.tolist():\n    print(column)\n    print (missing_data[column].value_counts())\n    print(\"\")\n# replace missing with most frequent\nAverageValue= df['Weight_kg'].astype('float').mean(axis=0)\ndf['Weight_kg'].replace(np.nan, AverageValue, inplace=True)\n# replace missing with most frequent\nMostFrequentValue= df[\"Screen_Size_cm\"].value_counts().idxmax()\ndf[\"Screen_Size_cm\"].replace(np.nan, MostFrequentValue, inplace= True)\n# chnage data type\ndf[[\"Weight_kg\"], \"Screen_Size_cm\"]= df[[\"Weight_kg\"], \"Screen_Size_cm\"].astype(\"float\")\n# standardize\ndf[\"Screen_Size_cm\"]= df[\"Screen_Size_cm\"]/2.54\ndf.rename(columns = {\"Screen_Size_cm\":\"Screen_Size_inch\"}, inplace= True )\ndf[\"Weight_kg\"]= df[\"Weight_kg\"]*2.205\ndf.rename(columns = {\"Weight_kg\":\"Weight_kg\"}, inplace= True )\ndf[\"CPU_frequency\"]= df[\"CPU_frequency\"]/df[\"CPU_frequency\"].max()\n# transform prices into bins\nbins = np.linspace(min(df[\"Price\"]), max(df[\"Price\"],4)\nGroupNames = [\"Low\",\"Medium\",\"High\"]\ndf[\"Price-binned\"] = pd.cut(df['Price'], bins, labels=GroupNames, include_lowest=True)\n# plot a bar chart to visualize\nplt.bar(group_names, df[\"Price-binned\"].value_counts())\nplt.xlabel(\"Price\")\nplt.ylabel(\"count\")\nplt.title(\"Price bins\")\n# one hot coding\ndummy_variable = pd.get_dummies(df[\"Screen\"])\ndf.rename(columns= {\"IPS_panel\": \"Screen-IPS_panel\", \"Full_HD\" :\"Screen-Full_HD\" )\ndf = pd.concat([df, dummy_variable],axis = 1)\ndf.drop(\"Screen\", axis= 1, inplace= True)\n# check it out\nprint(df.head())",
      "metadata": {
        "trusted": true
      },
      "outputs": [],
      "execution_count": null
    }
  ]
}